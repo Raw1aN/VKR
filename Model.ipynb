{
  "nbformat": 4,
  "nbformat_minor": 0,
  "metadata": {
    "colab": {
      "provenance": [],
      "authorship_tag": "ABX9TyPcD5QZGsG364cK88ixXLrZ"
    },
    "kernelspec": {
      "name": "python3",
      "display_name": "Python 3"
    },
    "language_info": {
      "name": "python"
    }
  },
  "cells": [
    {
      "cell_type": "code",
      "execution_count": 170,
      "metadata": {
        "colab": {
          "base_uri": "https://localhost:8080/"
        },
        "id": "h82aOxiKOl9l",
        "outputId": "df69b941-02fc-475f-863b-d6f71fcfdf9a"
      },
      "outputs": [
        {
          "output_type": "stream",
          "name": "stdout",
          "text": [
            "                      time  seconds_elapsed  rotationRateX  rotationRateY  \\\n",
            "0      1718556934208165600         0.120166      -0.617923      -0.444125   \n",
            "1      1718556934218113500         0.130114      -0.710847      -0.396706   \n",
            "2      1718556934228063000         0.140063      -0.768954      -0.338885   \n",
            "3      1718556934238010600         0.150011      -0.760009      -0.303767   \n",
            "4      1718556934247959800         0.159960      -0.766248      -0.278948   \n",
            "...                    ...              ...            ...            ...   \n",
            "14632  1718557079777983700       145.689984      -0.213059       0.030444   \n",
            "14633  1718557079787933000       145.699933      -0.190713      -0.059019   \n",
            "14634  1718557079797880600       145.709881      -0.090189      -0.047295   \n",
            "14635  1718557079807829800       145.719830      -0.052953      -0.048930   \n",
            "14636  1718557079817779000       145.729779      -0.058721      -0.059493   \n",
            "\n",
            "       rotationRateZ  accelerationX  accelerationY  accelerationZ  \n",
            "0          -0.222103      -0.030652      -0.085566       0.041613  \n",
            "1          -0.220649      -0.040305      -0.087173       0.060821  \n",
            "2          -0.178581      -0.040646      -0.073354       0.082964  \n",
            "3          -0.136627      -0.035585      -0.079050       0.113999  \n",
            "4          -0.109886      -0.023255      -0.089210       0.135739  \n",
            "...              ...            ...            ...            ...  \n",
            "14632       0.068767       0.016914      -0.012268      -0.036908  \n",
            "14633       0.030900       0.039865      -0.015839      -0.029569  \n",
            "14634       0.041145       0.045806       0.030663      -0.028436  \n",
            "14635       0.005485      -0.010889       0.014440      -0.013696  \n",
            "14636      -0.028937       0.000561       0.000424      -0.001559  \n",
            "\n",
            "[14637 rows x 8 columns]\n",
            "                      time  seconds_elapsed  rotationRateX  rotationRateY  \\\n",
            "0      1718556499633317000         0.154317      -0.463608      -0.076312   \n",
            "1      1718556499643267300         0.164267      -0.560001      -0.066457   \n",
            "2      1718556499653216300         0.174216      -0.611122      -0.040919   \n",
            "3      1718556499663165400         0.184166      -0.592678      -0.015417   \n",
            "4      1718556499673114400         0.194114      -0.523691      -0.052866   \n",
            "...                    ...              ...            ...            ...   \n",
            "12592  1718556624915108000       125.436108       1.042482      -1.204437   \n",
            "12593  1718556624925057300       125.446057       0.920933      -1.245341   \n",
            "12594  1718556624935007000       125.456007       0.803825      -1.279251   \n",
            "12595  1718556624944956200       125.465956       0.703954      -1.284688   \n",
            "12596  1718556624954905300       125.475905       0.610594      -1.254545   \n",
            "\n",
            "       rotationRateZ  accelerationX  accelerationY  accelerationZ  \n",
            "0           0.049422       0.033535      -0.036356       0.005756  \n",
            "1           0.022657       0.030911      -0.041463       0.001136  \n",
            "2           0.021258       0.014174      -0.049582      -0.015278  \n",
            "3           0.031689      -0.001767      -0.044814      -0.028758  \n",
            "4           0.038042      -0.001272      -0.023244      -0.040460  \n",
            "...              ...            ...            ...            ...  \n",
            "12592      -0.926245       0.180284       0.164755       0.086845  \n",
            "12593      -0.944899       0.163379       0.161981       0.105556  \n",
            "12594      -0.970370       0.149365       0.159688       0.134037  \n",
            "12595      -1.012068       0.132567       0.147509       0.162354  \n",
            "12596      -1.071945       0.107045       0.134877       0.188431  \n",
            "\n",
            "[12597 rows x 8 columns]\n",
            "                      time  seconds_elapsed  rotationRateX  rotationRateY  \\\n",
            "0      1718556647017482000         0.151482       0.408520      -0.009306   \n",
            "1      1718556647027431200         0.161431       0.421540      -0.020282   \n",
            "2      1718556647037380000         0.171380       0.413302      -0.019609   \n",
            "3      1718556647047328800         0.181329       0.404307      -0.013677   \n",
            "4      1718556647057279000         0.191279       0.436055       0.003485   \n",
            "...                    ...              ...            ...            ...   \n",
            "14224  1718556788533454800       141.667455      -0.032798       0.015683   \n",
            "14225  1718556788543403800       141.677404      -0.107820       0.089792   \n",
            "14226  1718556788553353000       141.687353      -0.145768       0.153434   \n",
            "14227  1718556788563302000       141.697302      -0.107177       0.202353   \n",
            "14228  1718556788573250800       141.707251      -0.131026       0.237957   \n",
            "\n",
            "       rotationRateZ  accelerationX  accelerationY  accelerationZ  \n",
            "0           0.052849       0.016003       0.033662       0.012565  \n",
            "1           0.056648       0.018957       0.024799       0.018870  \n",
            "2           0.051310       0.013582       0.011619       0.023603  \n",
            "3           0.047001       0.010225       0.001241       0.030063  \n",
            "4           0.054879       0.010523      -0.007628       0.032787  \n",
            "...              ...            ...            ...            ...  \n",
            "14224       0.135093       0.059863      -0.367634       0.204672  \n",
            "14225       0.305000       0.103932      -0.332045       0.174461  \n",
            "14226       0.479565       0.144308      -0.299378       0.164000  \n",
            "14227       0.660237       0.179138      -0.275111       0.158947  \n",
            "14228       0.802126       0.198966      -0.268820       0.144250  \n",
            "\n",
            "[14229 rows x 8 columns]\n",
            "                      time  seconds_elapsed  rotationRateX  rotationRateY  \\\n",
            "0      1718556090963211800         0.104212       0.034614       0.040996   \n",
            "1      1718556090973160700         0.114161      -0.036789       0.041495   \n",
            "2      1718556090983111000         0.124111      -0.098192       0.040073   \n",
            "3      1718556090993059800         0.134060      -0.168049       0.049507   \n",
            "4      1718556091003008800         0.144009      -0.208076       0.057740   \n",
            "...                    ...              ...            ...            ...   \n",
            "31105  1718556400443786500       309.584786       0.066368      -0.023640   \n",
            "31106  1718556400453736400       309.594736       0.173761      -0.102122   \n",
            "31107  1718556400463686400       309.604686       0.058721      -0.156155   \n",
            "31108  1718556400473635300       309.614635      -0.151954      -0.021168   \n",
            "31109  1718556400483585500       309.624585       0.071898      -0.014654   \n",
            "\n",
            "       rotationRateZ  accelerationX  accelerationY  accelerationZ  \n",
            "0           0.004669      -0.006906      -0.011055      -0.002715  \n",
            "1          -0.006196      -0.008547      -0.022097      -0.000189  \n",
            "2          -0.014375      -0.004237      -0.031821       0.001437  \n",
            "3          -0.023370      -0.003333      -0.037236       0.002345  \n",
            "4          -0.020972      -0.002158      -0.030460       0.000466  \n",
            "...              ...            ...            ...            ...  \n",
            "31105      -0.011754       0.002657      -0.002124       0.008351  \n",
            "31106      -0.013314      -0.000809      -0.011244       0.014530  \n",
            "31107      -0.064631      -0.011545      -0.023437       0.065270  \n",
            "31108      -0.025193      -0.019514      -0.116729       0.084358  \n",
            "31109      -0.045290       0.004028       0.024051       0.019262  \n",
            "\n",
            "[31110 rows x 8 columns]\n",
            "                      time  seconds_elapsed  rotationRateX  rotationRateY  \\\n",
            "0      1718555750412614000         0.120614      -0.026105       0.010179   \n",
            "1      1718555750422562800         0.130563      -0.021168      -0.007482   \n",
            "2      1718555750432511700         0.140512      -0.023761      -0.024939   \n",
            "3      1718555750442460000         0.150460      -0.037536      -0.043763   \n",
            "4      1718555750452409000         0.160409      -0.058537      -0.053479   \n",
            "...                    ...              ...            ...            ...   \n",
            "30391  1718556052781001200       302.489001       0.001103       0.009775   \n",
            "30392  1718556052790950400       302.498950      -0.016303       0.024933   \n",
            "30393  1718556052800900000       302.508900       0.000139       0.022561   \n",
            "30394  1718556052810849300       302.518849       0.018705      -0.007833   \n",
            "30395  1718556052820799200       302.528799       0.027297      -0.024360   \n",
            "\n",
            "       rotationRateZ  accelerationX  accelerationY  accelerationZ  \n",
            "0           0.011277      -0.002552       0.005221      -0.002254  \n",
            "1           0.003174       0.001429       0.008134      -0.004266  \n",
            "2          -0.014528       0.005917       0.007154       0.002699  \n",
            "3          -0.023703       0.009832       0.000986       0.001125  \n",
            "4          -0.021732       0.010859       0.000720       0.000751  \n",
            "...              ...            ...            ...            ...  \n",
            "30391       0.014450      -0.007128      -0.063111      -0.001302  \n",
            "30392       0.015640      -0.012075      -0.061177      -0.008287  \n",
            "30393       0.010383      -0.011475      -0.040807      -0.010925  \n",
            "30394       0.012052      -0.002098      -0.013119      -0.002559  \n",
            "30395       0.020287       0.010815       0.004582       0.001924  \n",
            "\n",
            "[30396 rows x 8 columns]\n",
            "Объединенный файл сохранен по пути: combined_activity_data.csv\n"
          ]
        }
      ],
      "source": [
        "import os\n",
        "import pandas as pd\n",
        "\n",
        "data_directory = '/content/Data'\n",
        "\n",
        "dataframes = []\n",
        "\n",
        "ACTIVITY_MAP = {\n",
        "    'A' : 'DownStairs',\n",
        "    'B' : 'Running',\n",
        "    'C' : 'Sitting',\n",
        "    'D' : 'Staying',\n",
        "    'E' : 'Upstairs'\n",
        "}\n",
        "\n",
        "for filename in os.listdir(data_directory):\n",
        "    if filename.endswith('.csv'):\n",
        "        df = pd.read_csv(os.path.join(data_directory, filename))\n",
        "        df = df.drop(columns=['gravityX', 'gravityY', 'gravityZ', 'quaternionW', 'quaternionX', 'quaternionY', 'quaternionZ'])\n",
        "        print(df)\n",
        "        df['activity'] = os.path.splitext(filename)[0]\n",
        "        dataframes.append(df)\n",
        "\n",
        "combined_df = pd.concat(dataframes, ignore_index=True)\n",
        "\n",
        "output_path = 'combined_activity_data.csv'\n",
        "combined_df.to_csv(output_path, index=False)\n",
        "\n",
        "print(f'Объединенный файл сохранен по пути: {output_path}')"
      ]
    },
    {
      "cell_type": "code",
      "source": [
        "import os\n",
        "import datetime\n",
        "import glob\n",
        "import requests\n",
        "import zipfile\n",
        "\n",
        "import numpy as np\n",
        "import pandas as pd\n",
        "import matplotlib.pyplot as plt\n",
        "\n",
        "import tensorflow as tf\n",
        "from sklearn.model_selection import train_test_split\n",
        "from sklearn.preprocessing import LabelEncoder, MinMaxScaler\n",
        "\n",
        "%matplotlib inline"
      ],
      "metadata": {
        "id": "ttlRk8wsOzQR"
      },
      "execution_count": 171,
      "outputs": []
    },
    {
      "cell_type": "code",
      "source": [
        "har_df = combined_df\n",
        "display(har_df.head())\n",
        "display(har_df.shape)"
      ],
      "metadata": {
        "colab": {
          "base_uri": "https://localhost:8080/",
          "height": 225
        },
        "id": "9J4r3cxSO-rm",
        "outputId": "5d3795cf-0301-4729-a6ba-5726a613af54"
      },
      "execution_count": 172,
      "outputs": [
        {
          "output_type": "display_data",
          "data": {
            "text/plain": [
              "                  time  seconds_elapsed  rotationRateX  rotationRateY  \\\n",
              "0  1718556934208165600         0.120166      -0.617923      -0.444125   \n",
              "1  1718556934218113500         0.130114      -0.710847      -0.396706   \n",
              "2  1718556934228063000         0.140063      -0.768954      -0.338885   \n",
              "3  1718556934238010600         0.150011      -0.760009      -0.303767   \n",
              "4  1718556934247959800         0.159960      -0.766248      -0.278948   \n",
              "\n",
              "   rotationRateZ  accelerationX  accelerationY  accelerationZ activity  \n",
              "0      -0.222103      -0.030652      -0.085566       0.041613  Running  \n",
              "1      -0.220649      -0.040305      -0.087173       0.060821  Running  \n",
              "2      -0.178581      -0.040646      -0.073354       0.082964  Running  \n",
              "3      -0.136627      -0.035585      -0.079050       0.113999  Running  \n",
              "4      -0.109886      -0.023255      -0.089210       0.135739  Running  "
            ],
            "text/html": [
              "\n",
              "  <div id=\"df-174d5604-3ffb-4cb0-83e8-ee26e636237f\" class=\"colab-df-container\">\n",
              "    <div>\n",
              "<style scoped>\n",
              "    .dataframe tbody tr th:only-of-type {\n",
              "        vertical-align: middle;\n",
              "    }\n",
              "\n",
              "    .dataframe tbody tr th {\n",
              "        vertical-align: top;\n",
              "    }\n",
              "\n",
              "    .dataframe thead th {\n",
              "        text-align: right;\n",
              "    }\n",
              "</style>\n",
              "<table border=\"1\" class=\"dataframe\">\n",
              "  <thead>\n",
              "    <tr style=\"text-align: right;\">\n",
              "      <th></th>\n",
              "      <th>time</th>\n",
              "      <th>seconds_elapsed</th>\n",
              "      <th>rotationRateX</th>\n",
              "      <th>rotationRateY</th>\n",
              "      <th>rotationRateZ</th>\n",
              "      <th>accelerationX</th>\n",
              "      <th>accelerationY</th>\n",
              "      <th>accelerationZ</th>\n",
              "      <th>activity</th>\n",
              "    </tr>\n",
              "  </thead>\n",
              "  <tbody>\n",
              "    <tr>\n",
              "      <th>0</th>\n",
              "      <td>1718556934208165600</td>\n",
              "      <td>0.120166</td>\n",
              "      <td>-0.617923</td>\n",
              "      <td>-0.444125</td>\n",
              "      <td>-0.222103</td>\n",
              "      <td>-0.030652</td>\n",
              "      <td>-0.085566</td>\n",
              "      <td>0.041613</td>\n",
              "      <td>Running</td>\n",
              "    </tr>\n",
              "    <tr>\n",
              "      <th>1</th>\n",
              "      <td>1718556934218113500</td>\n",
              "      <td>0.130114</td>\n",
              "      <td>-0.710847</td>\n",
              "      <td>-0.396706</td>\n",
              "      <td>-0.220649</td>\n",
              "      <td>-0.040305</td>\n",
              "      <td>-0.087173</td>\n",
              "      <td>0.060821</td>\n",
              "      <td>Running</td>\n",
              "    </tr>\n",
              "    <tr>\n",
              "      <th>2</th>\n",
              "      <td>1718556934228063000</td>\n",
              "      <td>0.140063</td>\n",
              "      <td>-0.768954</td>\n",
              "      <td>-0.338885</td>\n",
              "      <td>-0.178581</td>\n",
              "      <td>-0.040646</td>\n",
              "      <td>-0.073354</td>\n",
              "      <td>0.082964</td>\n",
              "      <td>Running</td>\n",
              "    </tr>\n",
              "    <tr>\n",
              "      <th>3</th>\n",
              "      <td>1718556934238010600</td>\n",
              "      <td>0.150011</td>\n",
              "      <td>-0.760009</td>\n",
              "      <td>-0.303767</td>\n",
              "      <td>-0.136627</td>\n",
              "      <td>-0.035585</td>\n",
              "      <td>-0.079050</td>\n",
              "      <td>0.113999</td>\n",
              "      <td>Running</td>\n",
              "    </tr>\n",
              "    <tr>\n",
              "      <th>4</th>\n",
              "      <td>1718556934247959800</td>\n",
              "      <td>0.159960</td>\n",
              "      <td>-0.766248</td>\n",
              "      <td>-0.278948</td>\n",
              "      <td>-0.109886</td>\n",
              "      <td>-0.023255</td>\n",
              "      <td>-0.089210</td>\n",
              "      <td>0.135739</td>\n",
              "      <td>Running</td>\n",
              "    </tr>\n",
              "  </tbody>\n",
              "</table>\n",
              "</div>\n",
              "    <div class=\"colab-df-buttons\">\n",
              "\n",
              "  <div class=\"colab-df-container\">\n",
              "    <button class=\"colab-df-convert\" onclick=\"convertToInteractive('df-174d5604-3ffb-4cb0-83e8-ee26e636237f')\"\n",
              "            title=\"Convert this dataframe to an interactive table.\"\n",
              "            style=\"display:none;\">\n",
              "\n",
              "  <svg xmlns=\"http://www.w3.org/2000/svg\" height=\"24px\" viewBox=\"0 -960 960 960\">\n",
              "    <path d=\"M120-120v-720h720v720H120Zm60-500h600v-160H180v160Zm220 220h160v-160H400v160Zm0 220h160v-160H400v160ZM180-400h160v-160H180v160Zm440 0h160v-160H620v160ZM180-180h160v-160H180v160Zm440 0h160v-160H620v160Z\"/>\n",
              "  </svg>\n",
              "    </button>\n",
              "\n",
              "  <style>\n",
              "    .colab-df-container {\n",
              "      display:flex;\n",
              "      gap: 12px;\n",
              "    }\n",
              "\n",
              "    .colab-df-convert {\n",
              "      background-color: #E8F0FE;\n",
              "      border: none;\n",
              "      border-radius: 50%;\n",
              "      cursor: pointer;\n",
              "      display: none;\n",
              "      fill: #1967D2;\n",
              "      height: 32px;\n",
              "      padding: 0 0 0 0;\n",
              "      width: 32px;\n",
              "    }\n",
              "\n",
              "    .colab-df-convert:hover {\n",
              "      background-color: #E2EBFA;\n",
              "      box-shadow: 0px 1px 2px rgba(60, 64, 67, 0.3), 0px 1px 3px 1px rgba(60, 64, 67, 0.15);\n",
              "      fill: #174EA6;\n",
              "    }\n",
              "\n",
              "    .colab-df-buttons div {\n",
              "      margin-bottom: 4px;\n",
              "    }\n",
              "\n",
              "    [theme=dark] .colab-df-convert {\n",
              "      background-color: #3B4455;\n",
              "      fill: #D2E3FC;\n",
              "    }\n",
              "\n",
              "    [theme=dark] .colab-df-convert:hover {\n",
              "      background-color: #434B5C;\n",
              "      box-shadow: 0px 1px 3px 1px rgba(0, 0, 0, 0.15);\n",
              "      filter: drop-shadow(0px 1px 2px rgba(0, 0, 0, 0.3));\n",
              "      fill: #FFFFFF;\n",
              "    }\n",
              "  </style>\n",
              "\n",
              "    <script>\n",
              "      const buttonEl =\n",
              "        document.querySelector('#df-174d5604-3ffb-4cb0-83e8-ee26e636237f button.colab-df-convert');\n",
              "      buttonEl.style.display =\n",
              "        google.colab.kernel.accessAllowed ? 'block' : 'none';\n",
              "\n",
              "      async function convertToInteractive(key) {\n",
              "        const element = document.querySelector('#df-174d5604-3ffb-4cb0-83e8-ee26e636237f');\n",
              "        const dataTable =\n",
              "          await google.colab.kernel.invokeFunction('convertToInteractive',\n",
              "                                                    [key], {});\n",
              "        if (!dataTable) return;\n",
              "\n",
              "        const docLinkHtml = 'Like what you see? Visit the ' +\n",
              "          '<a target=\"_blank\" href=https://colab.research.google.com/notebooks/data_table.ipynb>data table notebook</a>'\n",
              "          + ' to learn more about interactive tables.';\n",
              "        element.innerHTML = '';\n",
              "        dataTable['output_type'] = 'display_data';\n",
              "        await google.colab.output.renderOutput(dataTable, element);\n",
              "        const docLink = document.createElement('div');\n",
              "        docLink.innerHTML = docLinkHtml;\n",
              "        element.appendChild(docLink);\n",
              "      }\n",
              "    </script>\n",
              "  </div>\n",
              "\n",
              "\n",
              "<div id=\"df-da59c477-0e4f-4c2c-8420-07d097863a7f\">\n",
              "  <button class=\"colab-df-quickchart\" onclick=\"quickchart('df-da59c477-0e4f-4c2c-8420-07d097863a7f')\"\n",
              "            title=\"Suggest charts\"\n",
              "            style=\"display:none;\">\n",
              "\n",
              "<svg xmlns=\"http://www.w3.org/2000/svg\" height=\"24px\"viewBox=\"0 0 24 24\"\n",
              "     width=\"24px\">\n",
              "    <g>\n",
              "        <path d=\"M19 3H5c-1.1 0-2 .9-2 2v14c0 1.1.9 2 2 2h14c1.1 0 2-.9 2-2V5c0-1.1-.9-2-2-2zM9 17H7v-7h2v7zm4 0h-2V7h2v10zm4 0h-2v-4h2v4z\"/>\n",
              "    </g>\n",
              "</svg>\n",
              "  </button>\n",
              "\n",
              "<style>\n",
              "  .colab-df-quickchart {\n",
              "      --bg-color: #E8F0FE;\n",
              "      --fill-color: #1967D2;\n",
              "      --hover-bg-color: #E2EBFA;\n",
              "      --hover-fill-color: #174EA6;\n",
              "      --disabled-fill-color: #AAA;\n",
              "      --disabled-bg-color: #DDD;\n",
              "  }\n",
              "\n",
              "  [theme=dark] .colab-df-quickchart {\n",
              "      --bg-color: #3B4455;\n",
              "      --fill-color: #D2E3FC;\n",
              "      --hover-bg-color: #434B5C;\n",
              "      --hover-fill-color: #FFFFFF;\n",
              "      --disabled-bg-color: #3B4455;\n",
              "      --disabled-fill-color: #666;\n",
              "  }\n",
              "\n",
              "  .colab-df-quickchart {\n",
              "    background-color: var(--bg-color);\n",
              "    border: none;\n",
              "    border-radius: 50%;\n",
              "    cursor: pointer;\n",
              "    display: none;\n",
              "    fill: var(--fill-color);\n",
              "    height: 32px;\n",
              "    padding: 0;\n",
              "    width: 32px;\n",
              "  }\n",
              "\n",
              "  .colab-df-quickchart:hover {\n",
              "    background-color: var(--hover-bg-color);\n",
              "    box-shadow: 0 1px 2px rgba(60, 64, 67, 0.3), 0 1px 3px 1px rgba(60, 64, 67, 0.15);\n",
              "    fill: var(--button-hover-fill-color);\n",
              "  }\n",
              "\n",
              "  .colab-df-quickchart-complete:disabled,\n",
              "  .colab-df-quickchart-complete:disabled:hover {\n",
              "    background-color: var(--disabled-bg-color);\n",
              "    fill: var(--disabled-fill-color);\n",
              "    box-shadow: none;\n",
              "  }\n",
              "\n",
              "  .colab-df-spinner {\n",
              "    border: 2px solid var(--fill-color);\n",
              "    border-color: transparent;\n",
              "    border-bottom-color: var(--fill-color);\n",
              "    animation:\n",
              "      spin 1s steps(1) infinite;\n",
              "  }\n",
              "\n",
              "  @keyframes spin {\n",
              "    0% {\n",
              "      border-color: transparent;\n",
              "      border-bottom-color: var(--fill-color);\n",
              "      border-left-color: var(--fill-color);\n",
              "    }\n",
              "    20% {\n",
              "      border-color: transparent;\n",
              "      border-left-color: var(--fill-color);\n",
              "      border-top-color: var(--fill-color);\n",
              "    }\n",
              "    30% {\n",
              "      border-color: transparent;\n",
              "      border-left-color: var(--fill-color);\n",
              "      border-top-color: var(--fill-color);\n",
              "      border-right-color: var(--fill-color);\n",
              "    }\n",
              "    40% {\n",
              "      border-color: transparent;\n",
              "      border-right-color: var(--fill-color);\n",
              "      border-top-color: var(--fill-color);\n",
              "    }\n",
              "    60% {\n",
              "      border-color: transparent;\n",
              "      border-right-color: var(--fill-color);\n",
              "    }\n",
              "    80% {\n",
              "      border-color: transparent;\n",
              "      border-right-color: var(--fill-color);\n",
              "      border-bottom-color: var(--fill-color);\n",
              "    }\n",
              "    90% {\n",
              "      border-color: transparent;\n",
              "      border-bottom-color: var(--fill-color);\n",
              "    }\n",
              "  }\n",
              "</style>\n",
              "\n",
              "  <script>\n",
              "    async function quickchart(key) {\n",
              "      const quickchartButtonEl =\n",
              "        document.querySelector('#' + key + ' button');\n",
              "      quickchartButtonEl.disabled = true;  // To prevent multiple clicks.\n",
              "      quickchartButtonEl.classList.add('colab-df-spinner');\n",
              "      try {\n",
              "        const charts = await google.colab.kernel.invokeFunction(\n",
              "            'suggestCharts', [key], {});\n",
              "      } catch (error) {\n",
              "        console.error('Error during call to suggestCharts:', error);\n",
              "      }\n",
              "      quickchartButtonEl.classList.remove('colab-df-spinner');\n",
              "      quickchartButtonEl.classList.add('colab-df-quickchart-complete');\n",
              "    }\n",
              "    (() => {\n",
              "      let quickchartButtonEl =\n",
              "        document.querySelector('#df-da59c477-0e4f-4c2c-8420-07d097863a7f button');\n",
              "      quickchartButtonEl.style.display =\n",
              "        google.colab.kernel.accessAllowed ? 'block' : 'none';\n",
              "    })();\n",
              "  </script>\n",
              "</div>\n",
              "    </div>\n",
              "  </div>\n"
            ],
            "application/vnd.google.colaboratory.intrinsic+json": {
              "type": "dataframe",
              "summary": "{\n  \"name\": \"display(har_df\",\n  \"rows\": 5,\n  \"fields\": [\n    {\n      \"column\": \"time\",\n      \"properties\": {\n        \"dtype\": \"number\",\n        \"std\": 15730029,\n        \"min\": 1718556934208165600,\n        \"max\": 1718556934247959800,\n        \"num_unique_values\": 5,\n        \"samples\": [\n          1718556934218113500,\n          1718556934247959800,\n          1718556934228063000\n        ],\n        \"semantic_type\": \"\",\n        \"description\": \"\"\n      }\n    },\n    {\n      \"column\": \"seconds_elapsed\",\n      \"properties\": {\n        \"dtype\": \"number\",\n        \"std\": 0.015730053844337014,\n        \"min\": 0.12016552734375,\n        \"max\": 0.159959716796875,\n        \"num_unique_values\": 5,\n        \"samples\": [\n          0.130113525390625,\n          0.159959716796875,\n          0.14006298828125\n        ],\n        \"semantic_type\": \"\",\n        \"description\": \"\"\n      }\n    },\n    {\n      \"column\": \"rotationRateX\",\n      \"properties\": {\n        \"dtype\": \"number\",\n        \"std\": 0.06427397018501799,\n        \"min\": -0.7689542174339294,\n        \"max\": -0.617922842502594,\n        \"num_unique_values\": 5,\n        \"samples\": [\n          -0.7108471989631653,\n          -0.7662476301193237,\n          -0.7689542174339294\n        ],\n        \"semantic_type\": \"\",\n        \"description\": \"\"\n      }\n    },\n    {\n      \"column\": \"rotationRateY\",\n      \"properties\": {\n        \"dtype\": \"number\",\n        \"std\": 0.06767467756121692,\n        \"min\": -0.4441254138946533,\n        \"max\": -0.2789483070373535,\n        \"num_unique_values\": 5,\n        \"samples\": [\n          -0.3967057168483734,\n          -0.2789483070373535,\n          -0.3388849198818207\n        ],\n        \"semantic_type\": \"\",\n        \"description\": \"\"\n      }\n    },\n    {\n      \"column\": \"rotationRateZ\",\n      \"properties\": {\n        \"dtype\": \"number\",\n        \"std\": 0.05004343227718606,\n        \"min\": -0.222102865576744,\n        \"max\": -0.1098863780498504,\n        \"num_unique_values\": 5,\n        \"samples\": [\n          -0.2206490486860275,\n          -0.1098863780498504,\n          -0.1785813570022583\n        ],\n        \"semantic_type\": \"\",\n        \"description\": \"\"\n      }\n    },\n    {\n      \"column\": \"accelerationX\",\n      \"properties\": {\n        \"dtype\": \"number\",\n        \"std\": 0.0072981677871714334,\n        \"min\": -0.040646031498909,\n        \"max\": -0.0232550799846649,\n        \"num_unique_values\": 5,\n        \"samples\": [\n          -0.0403046458959579,\n          -0.0232550799846649,\n          -0.040646031498909\n        ],\n        \"semantic_type\": \"\",\n        \"description\": \"\"\n      }\n    },\n    {\n      \"column\": \"accelerationY\",\n      \"properties\": {\n        \"dtype\": \"number\",\n        \"std\": 0.006540760436744,\n        \"min\": -0.0892101526260376,\n        \"max\": -0.0733543038368225,\n        \"num_unique_values\": 5,\n        \"samples\": [\n          -0.0871729850769043,\n          -0.0892101526260376,\n          -0.0733543038368225\n        ],\n        \"semantic_type\": \"\",\n        \"description\": \"\"\n      }\n    },\n    {\n      \"column\": \"accelerationZ\",\n      \"properties\": {\n        \"dtype\": \"number\",\n        \"std\": 0.038295061252687466,\n        \"min\": 0.0416128039360046,\n        \"max\": 0.1357389688491821,\n        \"num_unique_values\": 5,\n        \"samples\": [\n          0.0608212351799011,\n          0.1357389688491821,\n          0.0829637050628662\n        ],\n        \"semantic_type\": \"\",\n        \"description\": \"\"\n      }\n    },\n    {\n      \"column\": \"activity\",\n      \"properties\": {\n        \"dtype\": \"category\",\n        \"num_unique_values\": 1,\n        \"samples\": [\n          \"Running\"\n        ],\n        \"semantic_type\": \"\",\n        \"description\": \"\"\n      }\n    }\n  ]\n}"
            }
          },
          "metadata": {}
        },
        {
          "output_type": "display_data",
          "data": {
            "text/plain": [
              "(102969, 9)"
            ]
          },
          "metadata": {}
        }
      ]
    },
    {
      "cell_type": "code",
      "source": [
        "print(har_df)"
      ],
      "metadata": {
        "colab": {
          "base_uri": "https://localhost:8080/"
        },
        "id": "05ltE4qfR61T",
        "outputId": "b0c91b66-e240-4b2e-edf1-29dfdd821ea7"
      },
      "execution_count": 173,
      "outputs": [
        {
          "output_type": "stream",
          "name": "stdout",
          "text": [
            "                       time  seconds_elapsed  rotationRateX  rotationRateY  \\\n",
            "0       1718556934208165600         0.120166      -0.617923      -0.444125   \n",
            "1       1718556934218113500         0.130114      -0.710847      -0.396706   \n",
            "2       1718556934228063000         0.140063      -0.768954      -0.338885   \n",
            "3       1718556934238010600         0.150011      -0.760009      -0.303767   \n",
            "4       1718556934247959800         0.159960      -0.766248      -0.278948   \n",
            "...                     ...              ...            ...            ...   \n",
            "102964  1718556052781001200       302.489001       0.001103       0.009775   \n",
            "102965  1718556052790950400       302.498950      -0.016303       0.024933   \n",
            "102966  1718556052800900000       302.508900       0.000139       0.022561   \n",
            "102967  1718556052810849300       302.518849       0.018705      -0.007833   \n",
            "102968  1718556052820799200       302.528799       0.027297      -0.024360   \n",
            "\n",
            "        rotationRateZ  accelerationX  accelerationY  accelerationZ activity  \n",
            "0           -0.222103      -0.030652      -0.085566       0.041613  Running  \n",
            "1           -0.220649      -0.040305      -0.087173       0.060821  Running  \n",
            "2           -0.178581      -0.040646      -0.073354       0.082964  Running  \n",
            "3           -0.136627      -0.035585      -0.079050       0.113999  Running  \n",
            "4           -0.109886      -0.023255      -0.089210       0.135739  Running  \n",
            "...               ...            ...            ...            ...      ...  \n",
            "102964       0.014450      -0.007128      -0.063111      -0.001302  Sitting  \n",
            "102965       0.015640      -0.012075      -0.061177      -0.008287  Sitting  \n",
            "102966       0.010383      -0.011475      -0.040807      -0.010925  Sitting  \n",
            "102967       0.012052      -0.002098      -0.013119      -0.002559  Sitting  \n",
            "102968       0.020287       0.010815       0.004582       0.001924  Sitting  \n",
            "\n",
            "[102969 rows x 9 columns]\n"
          ]
        }
      ]
    },
    {
      "cell_type": "code",
      "source": [
        "har_df.info()"
      ],
      "metadata": {
        "colab": {
          "base_uri": "https://localhost:8080/"
        },
        "id": "LFn2yDuxPAFu",
        "outputId": "ff404d1d-fddc-49b7-ad5c-62d44a3c2fc4"
      },
      "execution_count": 174,
      "outputs": [
        {
          "output_type": "stream",
          "name": "stdout",
          "text": [
            "<class 'pandas.core.frame.DataFrame'>\n",
            "RangeIndex: 102969 entries, 0 to 102968\n",
            "Data columns (total 9 columns):\n",
            " #   Column           Non-Null Count   Dtype  \n",
            "---  ------           --------------   -----  \n",
            " 0   time             102969 non-null  int64  \n",
            " 1   seconds_elapsed  102969 non-null  float64\n",
            " 2   rotationRateX    102969 non-null  float64\n",
            " 3   rotationRateY    102969 non-null  float64\n",
            " 4   rotationRateZ    102969 non-null  float64\n",
            " 5   accelerationX    102969 non-null  float64\n",
            " 6   accelerationY    102969 non-null  float64\n",
            " 7   accelerationZ    102969 non-null  float64\n",
            " 8   activity         102969 non-null  object \n",
            "dtypes: float64(7), int64(1), object(1)\n",
            "memory usage: 7.1+ MB\n"
          ]
        }
      ]
    },
    {
      "cell_type": "code",
      "source": [
        "FEATURES = ['rotationRateX', 'rotationRateY', 'rotationRateZ', 'accelerationX', 'accelerationY', 'accelerationZ']\n",
        "\n",
        "def color_negative_red(val):\n",
        "    \"\"\"\n",
        "    Takes a scalar and returns a string with\n",
        "    the css property `'color: red'` for negative\n",
        "    strings, black otherwise.\n",
        "    \"\"\"\n",
        "    color = 'red' if val < 0 else 'black'\n",
        "    return 'color: %s' % color\n",
        "\n",
        "stats_df = har_df[FEATURES].describe().loc[['count','mean','std','min','max']].round(3)\n",
        "stats_df.style.applymap(color_negative_red)"
      ],
      "metadata": {
        "colab": {
          "base_uri": "https://localhost:8080/",
          "height": 206
        },
        "id": "w9b4xZrnPCGg",
        "outputId": "bda28de9-c596-4fbe-86c0-363a1c3d464c"
      },
      "execution_count": 175,
      "outputs": [
        {
          "output_type": "execute_result",
          "data": {
            "text/plain": [
              "<pandas.io.formats.style.Styler at 0x7fc9cc5d7e80>"
            ],
            "text/html": [
              "<style type=\"text/css\">\n",
              "#T_acf3e_row0_col0, #T_acf3e_row0_col1, #T_acf3e_row0_col2, #T_acf3e_row0_col3, #T_acf3e_row0_col4, #T_acf3e_row0_col5, #T_acf3e_row1_col1, #T_acf3e_row1_col3, #T_acf3e_row1_col4, #T_acf3e_row1_col5, #T_acf3e_row2_col0, #T_acf3e_row2_col1, #T_acf3e_row2_col2, #T_acf3e_row2_col3, #T_acf3e_row2_col4, #T_acf3e_row2_col5, #T_acf3e_row4_col0, #T_acf3e_row4_col1, #T_acf3e_row4_col2, #T_acf3e_row4_col3, #T_acf3e_row4_col4, #T_acf3e_row4_col5 {\n",
              "  color: black;\n",
              "}\n",
              "#T_acf3e_row1_col0, #T_acf3e_row1_col2, #T_acf3e_row3_col0, #T_acf3e_row3_col1, #T_acf3e_row3_col2, #T_acf3e_row3_col3, #T_acf3e_row3_col4, #T_acf3e_row3_col5 {\n",
              "  color: red;\n",
              "}\n",
              "</style>\n",
              "<table id=\"T_acf3e\" class=\"dataframe\">\n",
              "  <thead>\n",
              "    <tr>\n",
              "      <th class=\"blank level0\" >&nbsp;</th>\n",
              "      <th id=\"T_acf3e_level0_col0\" class=\"col_heading level0 col0\" >rotationRateX</th>\n",
              "      <th id=\"T_acf3e_level0_col1\" class=\"col_heading level0 col1\" >rotationRateY</th>\n",
              "      <th id=\"T_acf3e_level0_col2\" class=\"col_heading level0 col2\" >rotationRateZ</th>\n",
              "      <th id=\"T_acf3e_level0_col3\" class=\"col_heading level0 col3\" >accelerationX</th>\n",
              "      <th id=\"T_acf3e_level0_col4\" class=\"col_heading level0 col4\" >accelerationY</th>\n",
              "      <th id=\"T_acf3e_level0_col5\" class=\"col_heading level0 col5\" >accelerationZ</th>\n",
              "    </tr>\n",
              "  </thead>\n",
              "  <tbody>\n",
              "    <tr>\n",
              "      <th id=\"T_acf3e_level0_row0\" class=\"row_heading level0 row0\" >count</th>\n",
              "      <td id=\"T_acf3e_row0_col0\" class=\"data row0 col0\" >102969.000000</td>\n",
              "      <td id=\"T_acf3e_row0_col1\" class=\"data row0 col1\" >102969.000000</td>\n",
              "      <td id=\"T_acf3e_row0_col2\" class=\"data row0 col2\" >102969.000000</td>\n",
              "      <td id=\"T_acf3e_row0_col3\" class=\"data row0 col3\" >102969.000000</td>\n",
              "      <td id=\"T_acf3e_row0_col4\" class=\"data row0 col4\" >102969.000000</td>\n",
              "      <td id=\"T_acf3e_row0_col5\" class=\"data row0 col5\" >102969.000000</td>\n",
              "    </tr>\n",
              "    <tr>\n",
              "      <th id=\"T_acf3e_level0_row1\" class=\"row_heading level0 row1\" >mean</th>\n",
              "      <td id=\"T_acf3e_row1_col0\" class=\"data row1 col0\" >-0.003000</td>\n",
              "      <td id=\"T_acf3e_row1_col1\" class=\"data row1 col1\" >0.013000</td>\n",
              "      <td id=\"T_acf3e_row1_col2\" class=\"data row1 col2\" >-0.002000</td>\n",
              "      <td id=\"T_acf3e_row1_col3\" class=\"data row1 col3\" >0.057000</td>\n",
              "      <td id=\"T_acf3e_row1_col4\" class=\"data row1 col4\" >0.018000</td>\n",
              "      <td id=\"T_acf3e_row1_col5\" class=\"data row1 col5\" >0.018000</td>\n",
              "    </tr>\n",
              "    <tr>\n",
              "      <th id=\"T_acf3e_level0_row2\" class=\"row_heading level0 row2\" >std</th>\n",
              "      <td id=\"T_acf3e_row2_col0\" class=\"data row2 col0\" >0.687000</td>\n",
              "      <td id=\"T_acf3e_row2_col1\" class=\"data row2 col1\" >0.451000</td>\n",
              "      <td id=\"T_acf3e_row2_col2\" class=\"data row2 col2\" >1.278000</td>\n",
              "      <td id=\"T_acf3e_row2_col3\" class=\"data row2 col3\" >0.186000</td>\n",
              "      <td id=\"T_acf3e_row2_col4\" class=\"data row2 col4\" >0.242000</td>\n",
              "      <td id=\"T_acf3e_row2_col5\" class=\"data row2 col5\" >0.125000</td>\n",
              "    </tr>\n",
              "    <tr>\n",
              "      <th id=\"T_acf3e_level0_row3\" class=\"row_heading level0 row3\" >min</th>\n",
              "      <td id=\"T_acf3e_row3_col0\" class=\"data row3 col0\" >-5.577000</td>\n",
              "      <td id=\"T_acf3e_row3_col1\" class=\"data row3 col1\" >-3.020000</td>\n",
              "      <td id=\"T_acf3e_row3_col2\" class=\"data row3 col2\" >-5.204000</td>\n",
              "      <td id=\"T_acf3e_row3_col3\" class=\"data row3 col3\" >-0.729000</td>\n",
              "      <td id=\"T_acf3e_row3_col4\" class=\"data row3 col4\" >-1.008000</td>\n",
              "      <td id=\"T_acf3e_row3_col5\" class=\"data row3 col5\" >-0.613000</td>\n",
              "    </tr>\n",
              "    <tr>\n",
              "      <th id=\"T_acf3e_level0_row4\" class=\"row_heading level0 row4\" >max</th>\n",
              "      <td id=\"T_acf3e_row4_col0\" class=\"data row4 col0\" >8.759000</td>\n",
              "      <td id=\"T_acf3e_row4_col1\" class=\"data row4 col1\" >2.722000</td>\n",
              "      <td id=\"T_acf3e_row4_col2\" class=\"data row4 col2\" >5.749000</td>\n",
              "      <td id=\"T_acf3e_row4_col3\" class=\"data row4 col3\" >1.393000</td>\n",
              "      <td id=\"T_acf3e_row4_col4\" class=\"data row4 col4\" >1.223000</td>\n",
              "      <td id=\"T_acf3e_row4_col5\" class=\"data row4 col5\" >0.982000</td>\n",
              "    </tr>\n",
              "  </tbody>\n",
              "</table>\n"
            ]
          },
          "metadata": {},
          "execution_count": 175
        }
      ]
    },
    {
      "cell_type": "code",
      "source": [
        "activity_count = har_df.activity.value_counts()\n",
        "\n",
        "fig, ax = plt.subplots(figsize=(8,5))\n",
        "ax.bar(activity_count.index, activity_count.values, color=['r', 'g', 'b', 'y', 'k'])\n",
        "ax.set_title('Activity Count', {'fontsize': 16})\n",
        "ax.set_xlabel('Activity', {'fontsize': 12})\n",
        "ax.set_ylabel('Count', {'fontsize': 12})"
      ],
      "metadata": {
        "colab": {
          "base_uri": "https://localhost:8080/",
          "height": 511
        },
        "id": "1CkzOWRQPC6q",
        "outputId": "ef8fe442-a66f-4496-a9c5-52c3c43899dd"
      },
      "execution_count": 176,
      "outputs": [
        {
          "output_type": "execute_result",
          "data": {
            "text/plain": [
              "Text(0, 0.5, 'Count')"
            ]
          },
          "metadata": {},
          "execution_count": 176
        },
        {
          "output_type": "display_data",
          "data": {
            "text/plain": [
              "<Figure size 800x500 with 1 Axes>"
            ],
            "image/png": "[encoded data removed]"
          },
          "metadata": {}
        }
      ]
    },
    {
      "cell_type": "code",
      "source": [
        "SEQ_LEN = 200\n",
        "COLUMNS = ['rotationRateX', 'rotationRateY', 'rotationRateZ', 'accelerationX', 'accelerationY', 'accelerationZ']\n",
        "DIMS = len(COLUMNS)\n",
        "\n"
      ],
      "metadata": {
        "id": "bm4ukFlUPE6f"
      },
      "execution_count": 177,
      "outputs": []
    },
    {
      "cell_type": "code",
      "source": [
        "scaler = MinMaxScaler()\n",
        "har_df[COLUMNS] = scaler.fit_transform(har_df[COLUMNS])\n",
        "\n",
        "encoder = LabelEncoder()\n",
        "har_df['activity'] = encoder.fit_transform(har_df['activity'])"
      ],
      "metadata": {
        "id": "xMMsfj_cPHwR"
      },
      "execution_count": 178,
      "outputs": []
    },
    {
      "cell_type": "code",
      "source": [
        "X = []\n",
        "y = []\n",
        "\n",
        "for index, data in har_df.groupby([ 'activity'], sort=False):\n",
        "    data = data[COLUMNS].values\n",
        "    label = index\n",
        "    for i in range(0, len(data) - SEQ_LEN, SEQ_LEN):\n",
        "        X.append(np.expand_dims(data[i:i+SEQ_LEN], axis=0))\n",
        "        y.append(label)\n",
        "\n",
        "X = np.concatenate(X)\n",
        "y = np.asarray(y)"
      ],
      "metadata": {
        "id": "56HnlemRPK7L"
      },
      "execution_count": 179,
      "outputs": []
    },
    {
      "cell_type": "code",
      "source": [
        "X_train, X_test, y_train, y_test = train_test_split(X, y, train_size=0.8, random_state=43)"
      ],
      "metadata": {
        "id": "VfYoi5MXPNPw"
      },
      "execution_count": 180,
      "outputs": []
    },
    {
      "cell_type": "code",
      "source": [
        "model = tf.keras.models.Sequential([\n",
        "    tf.keras.layers.Conv1D(filters=32, kernel_size=3, input_shape=(SEQ_LEN, DIMS)),\n",
        "    tf.keras.layers.LSTM(units=32),\n",
        "    tf.keras.layers.Dense(units=64, activation='relu'),\n",
        "    tf.keras.layers.Dropout(0.2),\n",
        "    tf.keras.layers.Dense(units=5, activation='softmax')\n",
        "])\n",
        "\n",
        "model.compile(loss='sparse_categorical_crossentropy', metrics=['accuracy'])\n",
        "\n",
        "model.summary()"
      ],
      "metadata": {
        "colab": {
          "base_uri": "https://localhost:8080/"
        },
        "id": "z_TmpOdyPOZw",
        "outputId": "f72fa7e4-6d83-41c0-940f-86992e66c764"
      },
      "execution_count": 181,
      "outputs": [
        {
          "output_type": "stream",
          "name": "stdout",
          "text": [
            "Model: \"sequential_8\"\n",
            "_________________________________________________________________\n",
            " Layer (type)                Output Shape              Param #   \n",
            "=================================================================\n",
            " conv1d_8 (Conv1D)           (None, 58, 32)            608       \n",
            "                                                                 \n",
            " lstm_8 (LSTM)               (None, 32)                8320      \n",
            "                                                                 \n",
            " dense_16 (Dense)            (None, 64)                2112      \n",
            "                                                                 \n",
            " dropout_8 (Dropout)         (None, 64)                0         \n",
            "                                                                 \n",
            " dense_17 (Dense)            (None, 5)                 325       \n",
            "                                                                 \n",
            "=================================================================\n",
            "Total params: 11365 (44.39 KB)\n",
            "Trainable params: 11365 (44.39 KB)\n",
            "Non-trainable params: 0 (0.00 Byte)\n",
            "_________________________________________________________________\n"
          ]
        }
      ]
    },
    {
      "cell_type": "code",
      "source": [
        "history = model.fit(X_train, y_train,\n",
        "                    batch_size=32,\n",
        "                    epochs=100,\n",
        "                    validation_split=0.2)"
      ],
      "metadata": {
        "colab": {
          "base_uri": "https://localhost:8080/"
        },
        "id": "Cb_HmzaePRIf",
        "outputId": "4767a38c-a501-4168-aa3b-bbf7d5c9b0fa"
      },
      "execution_count": 182,
      "outputs": [
        {
          "output_type": "stream",
          "name": "stdout",
          "text": [
            "Epoch 1/100\n",
            "35/35 [==============================] - 4s 49ms/step - loss: 1.5508 - accuracy: 0.2746 - val_loss: 1.5555 - val_accuracy: 0.2701\n",
            "Epoch 2/100\n",
            "35/35 [==============================] - 1s 34ms/step - loss: 1.5021 - accuracy: 0.2974 - val_loss: 1.4601 - val_accuracy: 0.3066\n",
            "Epoch 3/100\n",
            "35/35 [==============================] - 1s 32ms/step - loss: 1.3680 - accuracy: 0.3823 - val_loss: 1.2298 - val_accuracy: 0.3832\n",
            "Epoch 4/100\n",
            "35/35 [==============================] - 1s 31ms/step - loss: 1.2035 - accuracy: 0.4252 - val_loss: 1.0799 - val_accuracy: 0.4124\n",
            "Epoch 5/100\n",
            "35/35 [==============================] - 1s 30ms/step - loss: 1.1490 - accuracy: 0.4024 - val_loss: 1.0113 - val_accuracy: 0.4416\n",
            "Epoch 6/100\n",
            "35/35 [==============================] - 1s 31ms/step - loss: 1.0499 - accuracy: 0.4334 - val_loss: 0.9257 - val_accuracy: 0.4307\n",
            "Epoch 7/100\n",
            "35/35 [==============================] - 1s 43ms/step - loss: 1.2258 - accuracy: 0.3887 - val_loss: 0.9368 - val_accuracy: 0.5219\n",
            "Epoch 8/100\n",
            "35/35 [==============================] - 2s 49ms/step - loss: 1.0175 - accuracy: 0.4252 - val_loss: 0.9072 - val_accuracy: 0.4453\n",
            "Epoch 9/100\n",
            "35/35 [==============================] - 2s 51ms/step - loss: 0.9457 - accuracy: 0.4726 - val_loss: 2.9230 - val_accuracy: 0.1569\n",
            "Epoch 10/100\n",
            "35/35 [==============================] - 1s 33ms/step - loss: 0.9698 - accuracy: 0.4799 - val_loss: 0.8878 - val_accuracy: 0.4854\n",
            "Epoch 11/100\n",
            "35/35 [==============================] - 1s 32ms/step - loss: 0.9707 - accuracy: 0.4608 - val_loss: 0.8584 - val_accuracy: 0.4927\n",
            "Epoch 12/100\n",
            "35/35 [==============================] - 1s 34ms/step - loss: 0.8933 - accuracy: 0.5055 - val_loss: 0.9604 - val_accuracy: 0.4891\n",
            "Epoch 13/100\n",
            "35/35 [==============================] - 1s 32ms/step - loss: 0.8764 - accuracy: 0.5173 - val_loss: 1.1645 - val_accuracy: 0.3796\n",
            "Epoch 14/100\n",
            "35/35 [==============================] - 1s 34ms/step - loss: 0.8654 - accuracy: 0.4891 - val_loss: 0.7977 - val_accuracy: 0.5620\n",
            "Epoch 15/100\n",
            "35/35 [==============================] - 1s 31ms/step - loss: 1.0556 - accuracy: 0.5009 - val_loss: 0.8192 - val_accuracy: 0.5146\n",
            "Epoch 16/100\n",
            "35/35 [==============================] - 1s 31ms/step - loss: 0.8000 - accuracy: 0.5228 - val_loss: 0.8563 - val_accuracy: 0.5365\n",
            "Epoch 17/100\n",
            "35/35 [==============================] - 1s 32ms/step - loss: 0.8056 - accuracy: 0.5639 - val_loss: 0.7713 - val_accuracy: 0.5328\n",
            "Epoch 18/100\n",
            "35/35 [==============================] - 1s 33ms/step - loss: 0.7627 - accuracy: 0.5876 - val_loss: 0.7330 - val_accuracy: 0.5620\n",
            "Epoch 19/100\n",
            "35/35 [==============================] - 2s 46ms/step - loss: 0.7753 - accuracy: 0.5675 - val_loss: 0.7440 - val_accuracy: 0.5438\n",
            "Epoch 20/100\n",
            "35/35 [==============================] - 2s 51ms/step - loss: 0.7440 - accuracy: 0.6141 - val_loss: 0.6844 - val_accuracy: 0.5730\n",
            "Epoch 21/100\n",
            "35/35 [==============================] - 2s 43ms/step - loss: 0.7817 - accuracy: 0.5757 - val_loss: 0.6733 - val_accuracy: 0.6058\n",
            "Epoch 22/100\n",
            "35/35 [==============================] - 1s 32ms/step - loss: 0.6865 - accuracy: 0.6204 - val_loss: 2.3522 - val_accuracy: 0.2883\n",
            "Epoch 23/100\n",
            "35/35 [==============================] - 1s 34ms/step - loss: 0.7574 - accuracy: 0.5940 - val_loss: 0.7746 - val_accuracy: 0.5438\n",
            "Epoch 24/100\n",
            "35/35 [==============================] - 1s 32ms/step - loss: 0.6911 - accuracy: 0.5967 - val_loss: 0.6346 - val_accuracy: 0.6642\n",
            "Epoch 25/100\n",
            "35/35 [==============================] - 1s 30ms/step - loss: 0.6748 - accuracy: 0.6277 - val_loss: 0.6441 - val_accuracy: 0.6241\n",
            "Epoch 26/100\n",
            "35/35 [==============================] - 1s 32ms/step - loss: 0.6729 - accuracy: 0.5885 - val_loss: 0.6450 - val_accuracy: 0.6496\n",
            "Epoch 27/100\n",
            "35/35 [==============================] - 1s 32ms/step - loss: 0.6769 - accuracy: 0.5839 - val_loss: 0.7244 - val_accuracy: 0.6058\n",
            "Epoch 28/100\n",
            "35/35 [==============================] - 1s 31ms/step - loss: 0.6339 - accuracy: 0.6314 - val_loss: 0.6307 - val_accuracy: 0.6679\n",
            "Epoch 29/100\n",
            "35/35 [==============================] - 1s 33ms/step - loss: 0.6590 - accuracy: 0.6451 - val_loss: 0.6115 - val_accuracy: 0.6496\n",
            "Epoch 30/100\n",
            "35/35 [==============================] - 2s 43ms/step - loss: 0.6115 - accuracy: 0.6633 - val_loss: 0.6100 - val_accuracy: 0.6204\n",
            "Epoch 31/100\n",
            "35/35 [==============================] - 2s 50ms/step - loss: 0.6201 - accuracy: 0.6460 - val_loss: 0.7242 - val_accuracy: 0.6204\n",
            "Epoch 32/100\n",
            "35/35 [==============================] - 2s 49ms/step - loss: 0.6222 - accuracy: 0.6661 - val_loss: 0.5951 - val_accuracy: 0.6350\n",
            "Epoch 33/100\n",
            "35/35 [==============================] - 1s 33ms/step - loss: 0.5960 - accuracy: 0.6724 - val_loss: 0.6421 - val_accuracy: 0.6642\n",
            "Epoch 34/100\n",
            "35/35 [==============================] - 1s 34ms/step - loss: 0.6029 - accuracy: 0.6651 - val_loss: 0.6012 - val_accuracy: 0.6241\n",
            "Epoch 35/100\n",
            "35/35 [==============================] - 1s 33ms/step - loss: 0.6375 - accuracy: 0.6642 - val_loss: 0.5992 - val_accuracy: 0.6934\n",
            "Epoch 36/100\n",
            "35/35 [==============================] - 1s 31ms/step - loss: 0.5609 - accuracy: 0.6916 - val_loss: 0.5793 - val_accuracy: 0.6715\n",
            "Epoch 37/100\n",
            "35/35 [==============================] - 1s 31ms/step - loss: 0.5803 - accuracy: 0.6788 - val_loss: 0.6018 - val_accuracy: 0.6752\n",
            "Epoch 38/100\n",
            "35/35 [==============================] - 1s 32ms/step - loss: 0.5734 - accuracy: 0.6825 - val_loss: 0.5220 - val_accuracy: 0.7080\n",
            "Epoch 39/100\n",
            "35/35 [==============================] - 1s 34ms/step - loss: 0.5897 - accuracy: 0.6651 - val_loss: 0.5437 - val_accuracy: 0.7226\n",
            "Epoch 40/100\n",
            "35/35 [==============================] - 1s 33ms/step - loss: 0.5846 - accuracy: 0.6734 - val_loss: 0.5442 - val_accuracy: 0.7117\n",
            "Epoch 41/100\n",
            "35/35 [==============================] - 1s 39ms/step - loss: 0.5802 - accuracy: 0.6861 - val_loss: 0.5617 - val_accuracy: 0.7628\n",
            "Epoch 42/100\n",
            "35/35 [==============================] - 2s 49ms/step - loss: 0.5368 - accuracy: 0.7126 - val_loss: 0.7417 - val_accuracy: 0.6679\n",
            "Epoch 43/100\n",
            "35/35 [==============================] - 2s 55ms/step - loss: 0.5651 - accuracy: 0.6925 - val_loss: 0.5200 - val_accuracy: 0.7117\n",
            "Epoch 44/100\n",
            "35/35 [==============================] - 1s 32ms/step - loss: 0.5354 - accuracy: 0.7053 - val_loss: 0.5855 - val_accuracy: 0.6825\n",
            "Epoch 45/100\n",
            "35/35 [==============================] - 1s 31ms/step - loss: 0.5531 - accuracy: 0.7053 - val_loss: 0.6503 - val_accuracy: 0.6241\n",
            "Epoch 46/100\n",
            "35/35 [==============================] - 1s 34ms/step - loss: 0.5393 - accuracy: 0.7026 - val_loss: 0.6796 - val_accuracy: 0.6496\n",
            "Epoch 47/100\n",
            "35/35 [==============================] - 1s 31ms/step - loss: 0.5164 - accuracy: 0.7089 - val_loss: 0.6611 - val_accuracy: 0.6679\n",
            "Epoch 48/100\n",
            "35/35 [==============================] - 1s 34ms/step - loss: 0.5701 - accuracy: 0.6907 - val_loss: 0.5448 - val_accuracy: 0.7591\n",
            "Epoch 49/100\n",
            "35/35 [==============================] - 1s 34ms/step - loss: 0.4913 - accuracy: 0.7509 - val_loss: 0.5707 - val_accuracy: 0.6825\n",
            "Epoch 50/100\n",
            "35/35 [==============================] - 1s 31ms/step - loss: 0.5377 - accuracy: 0.7245 - val_loss: 0.5961 - val_accuracy: 0.6642\n",
            "Epoch 51/100\n",
            "35/35 [==============================] - 1s 31ms/step - loss: 0.5048 - accuracy: 0.7354 - val_loss: 0.5051 - val_accuracy: 0.6496\n",
            "Epoch 52/100\n",
            "35/35 [==============================] - 1s 35ms/step - loss: 0.5226 - accuracy: 0.7491 - val_loss: 0.5647 - val_accuracy: 0.7226\n",
            "Epoch 53/100\n",
            "35/35 [==============================] - 2s 49ms/step - loss: 0.4810 - accuracy: 0.7701 - val_loss: 0.4938 - val_accuracy: 0.7628\n",
            "Epoch 54/100\n",
            "35/35 [==============================] - 2s 52ms/step - loss: 0.5012 - accuracy: 0.7564 - val_loss: 0.5410 - val_accuracy: 0.6642\n",
            "Epoch 55/100\n",
            "35/35 [==============================] - 1s 38ms/step - loss: 0.4814 - accuracy: 0.7555 - val_loss: 0.5754 - val_accuracy: 0.6642\n",
            "Epoch 56/100\n",
            "35/35 [==============================] - 1s 32ms/step - loss: 0.4960 - accuracy: 0.7427 - val_loss: 0.4913 - val_accuracy: 0.7883\n",
            "Epoch 57/100\n",
            "35/35 [==============================] - 1s 33ms/step - loss: 0.4829 - accuracy: 0.7673 - val_loss: 0.5270 - val_accuracy: 0.6423\n",
            "Epoch 58/100\n",
            "35/35 [==============================] - 1s 33ms/step - loss: 0.4662 - accuracy: 0.7609 - val_loss: 0.5024 - val_accuracy: 0.7518\n",
            "Epoch 59/100\n",
            "35/35 [==============================] - 1s 34ms/step - loss: 0.4647 - accuracy: 0.7710 - val_loss: 0.5114 - val_accuracy: 0.7445\n",
            "Epoch 60/100\n",
            "35/35 [==============================] - 1s 33ms/step - loss: 0.4733 - accuracy: 0.7673 - val_loss: 0.5028 - val_accuracy: 0.7774\n",
            "Epoch 61/100\n",
            "35/35 [==============================] - 1s 33ms/step - loss: 0.4528 - accuracy: 0.7792 - val_loss: 0.5088 - val_accuracy: 0.7482\n",
            "Epoch 62/100\n",
            "35/35 [==============================] - 1s 35ms/step - loss: 0.4604 - accuracy: 0.7701 - val_loss: 0.7570 - val_accuracy: 0.6569\n",
            "Epoch 63/100\n",
            "35/35 [==============================] - 1s 33ms/step - loss: 0.4538 - accuracy: 0.7947 - val_loss: 0.4979 - val_accuracy: 0.7774\n",
            "Epoch 64/100\n",
            "35/35 [==============================] - 2s 48ms/step - loss: 0.4266 - accuracy: 0.7819 - val_loss: 0.7078 - val_accuracy: 0.7299\n",
            "Epoch 65/100\n",
            "35/35 [==============================] - 2s 52ms/step - loss: 0.4585 - accuracy: 0.7865 - val_loss: 0.6786 - val_accuracy: 0.6642\n",
            "Epoch 66/100\n",
            "35/35 [==============================] - 2s 47ms/step - loss: 0.4081 - accuracy: 0.8047 - val_loss: 0.4283 - val_accuracy: 0.8102\n",
            "Epoch 67/100\n",
            "35/35 [==============================] - 1s 34ms/step - loss: 0.4403 - accuracy: 0.8002 - val_loss: 0.5213 - val_accuracy: 0.7591\n",
            "Epoch 68/100\n",
            "35/35 [==============================] - 1s 31ms/step - loss: 0.3963 - accuracy: 0.8203 - val_loss: 0.5399 - val_accuracy: 0.6533\n",
            "Epoch 69/100\n",
            "35/35 [==============================] - 1s 32ms/step - loss: 0.4356 - accuracy: 0.7965 - val_loss: 0.4790 - val_accuracy: 0.7737\n",
            "Epoch 70/100\n",
            "35/35 [==============================] - 1s 34ms/step - loss: 0.4081 - accuracy: 0.8139 - val_loss: 0.4307 - val_accuracy: 0.7920\n",
            "Epoch 71/100\n",
            "35/35 [==============================] - 1s 33ms/step - loss: 0.4045 - accuracy: 0.7993 - val_loss: 0.5410 - val_accuracy: 0.6934\n",
            "Epoch 72/100\n",
            "35/35 [==============================] - 1s 32ms/step - loss: 0.4135 - accuracy: 0.8120 - val_loss: 0.5925 - val_accuracy: 0.6971\n",
            "Epoch 73/100\n",
            "35/35 [==============================] - 1s 32ms/step - loss: 0.3937 - accuracy: 0.8285 - val_loss: 0.4824 - val_accuracy: 0.8029\n",
            "Epoch 74/100\n",
            "35/35 [==============================] - 1s 33ms/step - loss: 0.3926 - accuracy: 0.8166 - val_loss: 0.5061 - val_accuracy: 0.8175\n",
            "Epoch 75/100\n",
            "35/35 [==============================] - 1s 43ms/step - loss: 0.3650 - accuracy: 0.8613 - val_loss: 0.4637 - val_accuracy: 0.7847\n",
            "Epoch 76/100\n",
            "35/35 [==============================] - 2s 50ms/step - loss: 0.3767 - accuracy: 0.8203 - val_loss: 0.4370 - val_accuracy: 0.8175\n",
            "Epoch 77/100\n",
            "35/35 [==============================] - 2s 48ms/step - loss: 0.3660 - accuracy: 0.8440 - val_loss: 0.5018 - val_accuracy: 0.8394\n",
            "Epoch 78/100\n",
            "35/35 [==============================] - 1s 32ms/step - loss: 0.3984 - accuracy: 0.8330 - val_loss: 0.4532 - val_accuracy: 0.7847\n",
            "Epoch 79/100\n",
            "35/35 [==============================] - 1s 35ms/step - loss: 0.3390 - accuracy: 0.8540 - val_loss: 0.4539 - val_accuracy: 0.8066\n",
            "Epoch 80/100\n",
            "35/35 [==============================] - 1s 32ms/step - loss: 0.3481 - accuracy: 0.8513 - val_loss: 0.6282 - val_accuracy: 0.7847\n",
            "Epoch 81/100\n",
            "35/35 [==============================] - 1s 34ms/step - loss: 0.3732 - accuracy: 0.8467 - val_loss: 0.3992 - val_accuracy: 0.8467\n",
            "Epoch 82/100\n",
            "35/35 [==============================] - 1s 34ms/step - loss: 0.3409 - accuracy: 0.8449 - val_loss: 0.4079 - val_accuracy: 0.8358\n",
            "Epoch 83/100\n",
            "35/35 [==============================] - 1s 34ms/step - loss: 0.3487 - accuracy: 0.8577 - val_loss: 0.3881 - val_accuracy: 0.8431\n",
            "Epoch 84/100\n",
            "35/35 [==============================] - 1s 32ms/step - loss: 0.3084 - accuracy: 0.8832 - val_loss: 0.4447 - val_accuracy: 0.8139\n",
            "Epoch 85/100\n",
            "35/35 [==============================] - 1s 34ms/step - loss: 0.3339 - accuracy: 0.8577 - val_loss: 0.4393 - val_accuracy: 0.8358\n",
            "Epoch 86/100\n",
            "35/35 [==============================] - 1s 42ms/step - loss: 0.3451 - accuracy: 0.8549 - val_loss: 0.6690 - val_accuracy: 0.7044\n",
            "Epoch 87/100\n",
            "35/35 [==============================] - 2s 47ms/step - loss: 0.3164 - accuracy: 0.8723 - val_loss: 0.4746 - val_accuracy: 0.8248\n",
            "Epoch 88/100\n",
            "35/35 [==============================] - 2s 55ms/step - loss: 0.3102 - accuracy: 0.8796 - val_loss: 0.6051 - val_accuracy: 0.6679\n",
            "Epoch 89/100\n",
            "35/35 [==============================] - 1s 31ms/step - loss: 0.3248 - accuracy: 0.8768 - val_loss: 0.4674 - val_accuracy: 0.7774\n",
            "Epoch 90/100\n",
            "35/35 [==============================] - 1s 35ms/step - loss: 0.2978 - accuracy: 0.8786 - val_loss: 1.0745 - val_accuracy: 0.6971\n",
            "Epoch 91/100\n",
            "35/35 [==============================] - 1s 32ms/step - loss: 0.3811 - accuracy: 0.8622 - val_loss: 0.3613 - val_accuracy: 0.8759\n",
            "Epoch 92/100\n",
            "35/35 [==============================] - 1s 34ms/step - loss: 0.2979 - accuracy: 0.8814 - val_loss: 0.4609 - val_accuracy: 0.8321\n",
            "Epoch 93/100\n",
            "35/35 [==============================] - 1s 33ms/step - loss: 0.2929 - accuracy: 0.8942 - val_loss: 0.3273 - val_accuracy: 0.8723\n",
            "Epoch 94/100\n",
            "35/35 [==============================] - 1s 35ms/step - loss: 0.2790 - accuracy: 0.8969 - val_loss: 0.4541 - val_accuracy: 0.8248\n",
            "Epoch 95/100\n",
            "35/35 [==============================] - 1s 35ms/step - loss: 0.3010 - accuracy: 0.8850 - val_loss: 0.4074 - val_accuracy: 0.8613\n",
            "Epoch 96/100\n",
            "35/35 [==============================] - 1s 33ms/step - loss: 0.2701 - accuracy: 0.8869 - val_loss: 0.4169 - val_accuracy: 0.8394\n",
            "Epoch 97/100\n",
            "35/35 [==============================] - 1s 41ms/step - loss: 0.2697 - accuracy: 0.8914 - val_loss: 0.3363 - val_accuracy: 0.8723\n",
            "Epoch 98/100\n",
            "35/35 [==============================] - 2s 50ms/step - loss: 0.2868 - accuracy: 0.8996 - val_loss: 0.5603 - val_accuracy: 0.6934\n",
            "Epoch 99/100\n",
            "35/35 [==============================] - 2s 54ms/step - loss: 0.2509 - accuracy: 0.8887 - val_loss: 0.4952 - val_accuracy: 0.8321\n",
            "Epoch 100/100\n",
            "35/35 [==============================] - 1s 34ms/step - loss: 0.3082 - accuracy: 0.8850 - val_loss: 0.3775 - val_accuracy: 0.8540\n"
          ]
        }
      ]
    },
    {
      "cell_type": "code",
      "source": [
        "model.evaluate(X_test, y_test)"
      ],
      "metadata": {
        "colab": {
          "base_uri": "https://localhost:8080/"
        },
        "id": "wCARSi_LQHYb",
        "outputId": "36a83ad4-c52d-47a4-c92a-ef7e7f68e1b0"
      },
      "execution_count": 183,
      "outputs": [
        {
          "output_type": "stream",
          "name": "stdout",
          "text": [
            "11/11 [==============================] - 0s 10ms/step - loss: 0.3626 - accuracy: 0.8950\n"
          ]
        },
        {
          "output_type": "execute_result",
          "data": {
            "text/plain": [
              "[0.362576425075531, 0.8950437307357788]"
            ]
          },
          "metadata": {},
          "execution_count": 183
        }
      ]
    },
    {
      "cell_type": "code",
      "source": [
        "y_pred_proba = model.predict(X_test)\n",
        "y_pred = np.argmax(y_pred_proba, axis=1)"
      ],
      "metadata": {
        "colab": {
          "base_uri": "https://localhost:8080/"
        },
        "id": "Bb-vPN2oQWRX",
        "outputId": "8533aad7-7047-426e-c430-3d3c9047fd4c"
      },
      "execution_count": 184,
      "outputs": [
        {
          "output_type": "stream",
          "name": "stdout",
          "text": [
            "11/11 [==============================] - 1s 9ms/step\n"
          ]
        }
      ]
    },
    {
      "cell_type": "code",
      "source": [
        "from sklearn.model_selection import train_test_split\n",
        "from sklearn.ensemble import RandomForestClassifier\n",
        "from sklearn.metrics import confusion_matrix, ConfusionMatrixDisplay\n",
        "import matplotlib.pyplot as plt\n",
        "\n",
        "class_labels = ['DownStairs', 'Running', 'Sitting', 'Staying', 'Upstairs']\n",
        "cm = confusion_matrix(y_test, y_pred)\n",
        "disp = ConfusionMatrixDisplay(confusion_matrix=cm, display_labels=class_labels)\n",
        "disp.plot(cmap=plt.cm.Blues)\n",
        "plt.show()"
      ],
      "metadata": {
        "colab": {
          "base_uri": "https://localhost:8080/",
          "height": 449
        },
        "id": "fwgnO2WcQKEc",
        "outputId": "b465bc19-ced7-4cb4-fbce-dc780d846f8c"
      },
      "execution_count": 185,
      "outputs": [
        {
          "output_type": "display_data",
          "data": {
            "text/plain": [
              "<Figure size 640x480 with 2 Axes>"
            ],
            "image/png": "[encoded data removed]"
          },
          "metadata": {}
        }
      ]
    },
    {
      "cell_type": "code",
      "source": [
        "!pip install coremltools"
      ],
      "metadata": {
        "colab": {
          "base_uri": "https://localhost:8080/"
        },
        "id": "pwfjayxHRrkk",
        "outputId": "5a26d1ba-1fd6-4ab1-a99e-03fb0d642360"
      },
      "execution_count": 186,
      "outputs": [
        {
          "output_type": "stream",
          "name": "stdout",
          "text": [
            "Requirement already satisfied: coremltools in /usr/local/lib/python3.10/dist-packages (7.2)\n",
            "Requirement already satisfied: numpy>=1.14.5 in /usr/local/lib/python3.10/dist-packages (from coremltools) (1.25.2)\n",
            "Requirement already satisfied: protobuf<=4.0.0,>=3.1.0 in /usr/local/lib/python3.10/dist-packages (from coremltools) (3.20.3)\n",
            "Requirement already satisfied: sympy in /usr/local/lib/python3.10/dist-packages (from coremltools) (1.12.1)\n",
            "Requirement already satisfied: tqdm in /usr/local/lib/python3.10/dist-packages (from coremltools) (4.66.4)\n",
            "Requirement already satisfied: packaging in /usr/local/lib/python3.10/dist-packages (from coremltools) (24.1)\n",
            "Requirement already satisfied: attrs>=21.3.0 in /usr/local/lib/python3.10/dist-packages (from coremltools) (23.2.0)\n",
            "Requirement already satisfied: cattrs in /usr/local/lib/python3.10/dist-packages (from coremltools) (23.2.3)\n",
            "Requirement already satisfied: pyaml in /usr/local/lib/python3.10/dist-packages (from coremltools) (24.4.0)\n",
            "Requirement already satisfied: exceptiongroup>=1.1.1 in /usr/local/lib/python3.10/dist-packages (from cattrs->coremltools) (1.2.1)\n",
            "Requirement already satisfied: typing-extensions!=4.6.3,>=4.1.0 in /usr/local/lib/python3.10/dist-packages (from cattrs->coremltools) (4.12.2)\n",
            "Requirement already satisfied: PyYAML in /usr/local/lib/python3.10/dist-packages (from pyaml->coremltools) (6.0.1)\n",
            "Requirement already satisfied: mpmath<1.4.0,>=1.1.0 in /usr/local/lib/python3.10/dist-packages (from sympy->coremltools) (1.3.0)\n"
          ]
        }
      ]
    },
    {
      "cell_type": "code",
      "source": [
        "import coremltools as ct\n",
        "\n",
        "coreml_model = ct.convert(model, inputs=[ct.TensorType(shape=(1, X_train.shape[1], X_train.shape[2]))], minimum_deployment_target=ct.target.iOS14)\n",
        "\n",
        "coreml_model.save('CoreMLModel.mlpackage')"
      ],
      "metadata": {
        "colab": {
          "base_uri": "https://localhost:8080/"
        },
        "id": "BtXsFVhzARjj",
        "outputId": "d951bee2-d216-4545-9abc-f6e8f9c817a9"
      },
      "execution_count": 187,
      "outputs": [
        {
          "output_type": "stream",
          "name": "stderr",
          "text": [
            "Running TensorFlow Graph Passes: 100%|██████████| 6/6 [00:03<00:00,  1.57 passes/s]\n",
            "Converting TF Frontend ==> MIL Ops:   0%|          | 0/59 [00:00<?, ? ops/s]WARNING:coremltools:Saving value type of int64 into a builtin type of int32, might lose precision!\n",
            "\n",
            "Converting TF Frontend ==> MIL Ops: 100%|██████████| 14/14 [00:00<00:00, 18202.19 ops/s]\n",
            "\n",
            "Converting TF Frontend ==> MIL Ops:   0%|          | 0/41 [00:00<?, ? ops/s]\u001b[AWARNING:coremltools:Input ls elem type unknown. Override with <class 'coremltools.converters.mil.mil.types.type_tensor.tensor.<locals>.tensor'>\n",
            "Converting TF Frontend ==> MIL Ops: 100%|██████████| 41/41 [00:00<00:00, 2795.79 ops/s]\n",
            "\n",
            "Converting TF Frontend ==> MIL Ops: 100%|██████████| 14/14 [00:00<00:00, 17897.06 ops/s]\n",
            "\n",
            "Converting TF Frontend ==> MIL Ops:   0%|          | 0/41 [00:00<?, ? ops/s]\u001b[AWARNING:coremltools:Input ls elem type unknown. Override with <class 'coremltools.converters.mil.mil.types.type_tensor.tensor.<locals>.tensor'>\n",
            "Converting TF Frontend ==> MIL Ops: 100%|██████████| 41/41 [00:00<00:00, 1327.23 ops/s]\n",
            "Converting TF Frontend ==> MIL Ops:  83%|████████▎ | 49/59 [00:00<00:00, 329.40 ops/s]WARNING:coremltools:Saving value type of int64 into a builtin type of int32, might lose precision!\n",
            "Converting TF Frontend ==> MIL Ops: 100%|██████████| 59/59 [00:00<00:00, 325.90 ops/s]\n",
            "Running MIL frontend_tensorflow2 pipeline: 100%|██████████| 7/7 [00:00<00:00, 118.01 passes/s]\n",
            "Running MIL default pipeline: 100%|██████████| 76/76 [00:00<00:00, 108.18 passes/s]\n",
            "Running MIL backend_neuralnetwork pipeline: 100%|██████████| 9/9 [00:00<00:00, 224.97 passes/s]\n",
            "Translating MIL ==> NeuralNetwork Ops:   0%|          | 0/56 [00:00<?, ? ops/s]\n",
            "Translating MIL ==> NeuralNetwork Ops: 100%|██████████| 1/1 [00:00<00:00, 2392.64 ops/s]\n",
            "\n",
            "Translating MIL ==> NeuralNetwork Ops: 100%|██████████| 25/25 [00:00<00:00, 2193.40 ops/s]\n",
            "Translating MIL ==> NeuralNetwork Ops: 100%|██████████| 56/56 [00:00<00:00, 1416.44 ops/s]\n"
          ]
        }
      ]
    },
    {
      "cell_type": "code",
      "source": [
        "!zip -r /content/file.zip /content/CoreMLModel.mlpackage"
      ],
      "metadata": {
        "colab": {
          "base_uri": "https://localhost:8080/"
        },
        "id": "HoC9i-bUDHbs",
        "outputId": "048673ff-e2f3-45e4-80f5-409272cbf3b0"
      },
      "execution_count": 188,
      "outputs": [
        {
          "output_type": "stream",
          "name": "stdout",
          "text": [
            "updating: content/CoreMLModel.mlpackage/ (stored 0%)\n",
            "updating: content/CoreMLModel.mlpackage/Data/ (stored 0%)\n",
            "updating: content/CoreMLModel.mlpackage/Data/com.apple.CoreML/ (stored 0%)\n",
            "updating: content/CoreMLModel.mlpackage/Data/com.apple.CoreML/model.mlmodel (deflated 32%)\n",
            "updating: content/CoreMLModel.mlpackage/Manifest.json (deflated 48%)\n"
          ]
        }
      ]
    },
    {
      "cell_type": "code",
      "source": [
        "from google.colab import files\n",
        "files.download(\"/content/file.zip\")"
      ],
      "metadata": {
        "colab": {
          "base_uri": "https://localhost:8080/",
          "height": 17
        },
        "id": "6t_AIYxFDN3Q",
        "outputId": "7e5f61bf-6409-4655-ef4d-d653f1a5e213"
      },
      "execution_count": 189,
      "outputs": [
        {
          "output_type": "display_data",
          "data": {
            "text/plain": [
              "<IPython.core.display.Javascript object>"
            ],
            "application/javascript": [
              "\n",
              "    async function download(id, filename, size) {\n",
              "      if (!google.colab.kernel.accessAllowed) {\n",
              "        return;\n",
              "      }\n",
              "      const div = document.createElement('div');\n",
              "      const label = document.createElement('label');\n",
              "      label.textContent = `Downloading \"${filename}\": `;\n",
              "      div.appendChild(label);\n",
              "      const progress = document.createElement('progress');\n",
              "      progress.max = size;\n",
              "      div.appendChild(progress);\n",
              "      document.body.appendChild(div);\n",
              "\n",
              "      const buffers = [];\n",
              "      let downloaded = 0;\n",
              "\n",
              "      const channel = await google.colab.kernel.comms.open(id);\n",
              "      // Send a message to notify the kernel that we're ready.\n",
              "      channel.send({})\n",
              "\n",
              "      for await (const message of channel.messages) {\n",
              "        // Send a message to notify the kernel that we're ready.\n",
              "        channel.send({})\n",
              "        if (message.buffers) {\n",
              "          for (const buffer of message.buffers) {\n",
              "            buffers.push(buffer);\n",
              "            downloaded += buffer.byteLength;\n",
              "            progress.value = downloaded;\n",
              "          }\n",
              "        }\n",
              "      }\n",
              "      const blob = new Blob(buffers, {type: 'application/binary'});\n",
              "      const a = document.createElement('a');\n",
              "      a.href = window.URL.createObjectURL(blob);\n",
              "      a.download = filename;\n",
              "      div.appendChild(a);\n",
              "      a.click();\n",
              "      div.remove();\n",
              "    }\n",
              "  "
            ]
          },
          "metadata": {}
        },
        {
          "output_type": "display_data",
          "data": {
            "text/plain": [
              "<IPython.core.display.Javascript object>"
            ],
            "application/javascript": [
              "download(\"download_155fb1b8-4eab-4083-aadd-d9ce5e291938\", \"file.zip\", 114401)"
            ]
          },
          "metadata": {}
        }
      ]
    }
  ]
}